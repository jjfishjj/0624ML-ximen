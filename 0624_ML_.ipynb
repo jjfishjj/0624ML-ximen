{
  "nbformat": 4,
  "nbformat_minor": 0,
  "metadata": {
    "colab": {
      "provenance": [],
      "authorship_tag": "ABX9TyNl8sbNrVe7tyHf91Tm7TBZ",
      "include_colab_link": true
    },
    "kernelspec": {
      "name": "python3",
      "display_name": "Python 3"
    },
    "language_info": {
      "name": "python"
    }
  },
  "cells": [
    {
      "cell_type": "markdown",
      "metadata": {
        "id": "view-in-github",
        "colab_type": "text"
      },
      "source": [
        "<a href=\"https://colab.research.google.com/github/jjfishjj/0624ML-ximen/blob/main/0624_ML_.ipynb\" target=\"_parent\"><img src=\"https://colab.research.google.com/assets/colab-badge.svg\" alt=\"Open In Colab\"/></a>"
      ]
    },
    {
      "cell_type": "code",
      "execution_count": null,
      "metadata": {
        "colab": {
          "base_uri": "https://localhost:8080/"
        },
        "id": "0IcN2sxREAFG",
        "outputId": "59e32c7c-0878-46eb-f1f7-4a6157059deb"
      },
      "outputs": [
        {
          "output_type": "stream",
          "name": "stdout",
          "text": [
            "Requirement already satisfied: pygame in /usr/local/lib/python3.10/dist-packages (2.5.2)\n"
          ]
        }
      ],
      "source": [
        "!pip install pygame\n",
        "\n"
      ]
    },
    {
      "cell_type": "code",
      "source": [
        "import pygame\n",
        "import os\n",
        "\n",
        "# 初始化Pygame\n",
        "pygame.init()\n",
        "\n",
        "# 設置遊戲屏幕尺寸\n",
        "SCREEN_WIDTH = 800\n",
        "SCREEN_HEIGHT = 600\n",
        "screen = pygame.display.set_mode((SCREEN_WIDTH, SCREEN_HEIGHT))\n",
        "pygame.display.set_caption(\"Super Mario\")\n",
        "\n",
        "# 設置顏色\n",
        "WHITE = (255, 255, 255)\n",
        "BLUE = (0, 0, 255)\n",
        "\n",
        "# 加載Mario圖片\n",
        "current_path = os.path.dirname(__file__)  # 獲取當前文件所在目錄\n",
        "image_path = os.path.join(current_path, 'mario.png')  # 圖片文件的路徑\n",
        "mario_image = pygame.image.load(image_path)\n",
        "mario_rect = mario_image.get_rect()\n",
        "\n",
        "# 設置初始位置\n",
        "mario_rect.x = 100\n",
        "mario_rect.y = 500\n",
        "\n",
        "# 設置速度和重力\n",
        "mario_speed = 5\n",
        "jump_speed = -15\n",
        "gravity = 1\n",
        "velocity_y = 0\n",
        "is_jumping = False\n",
        "\n",
        "# 主遊戲循環\n",
        "running = True\n",
        "clock = pygame.time.Clock()\n",
        "\n",
        "while running:\n",
        "    for event in pygame.event.get():\n",
        "        if event.type == pygame.QUIT:\n",
        "            running = False\n",
        "\n",
        "    # 獲取按鍵輸入\n",
        "    keys = pygame.key.get_pressed()\n",
        "    if keys[pygame.K_LEFT]:\n",
        "        mario_rect.x -= mario_speed\n",
        "    if keys[pygame.K_RIGHT]:\n",
        "        mario_rect.x += mario_speed\n",
        "    if keys[pygame.K_SPACE] and not is_jumping:\n",
        "        is_jumping = True\n",
        "        velocity_y = jump_speed\n",
        "\n",
        "    # 處理跳躍\n",
        "    if is_jumping:\n",
        "        mario_rect.y += velocity_y\n",
        "        velocity_y += gravity\n",
        "        if mario_rect.y >= 500:  # 回到地面\n",
        "            mario_rect.y = 500\n",
        "            is_jumping = False\n",
        "\n",
        "    # 清屏\n",
        "    screen.fill(WHITE)\n",
        "\n",
        "    # 繪製Mario\n",
        "    screen.blit(mario_image, mario_rect)\n",
        "\n",
        "    # 更新屏幕\n",
        "    pygame.display.flip()\n",
        "\n",
        "    # 設置幀率\n",
        "    clock.tick(30)\n",
        "\n",
        "pygame.quit()\n"
      ],
      "metadata": {
        "colab": {
          "base_uri": "https://localhost:8080/",
          "height": 251
        },
        "id": "EI7M7RbVGlqj",
        "outputId": "4e2d4087-107e-44d4-e08d-80b9068b4d2d"
      },
      "execution_count": null,
      "outputs": [
        {
          "output_type": "stream",
          "name": "stdout",
          "text": [
            "pygame 2.5.2 (SDL 2.28.2, Python 3.10.12)\n",
            "Hello from the pygame community. https://www.pygame.org/contribute.html\n"
          ]
        },
        {
          "output_type": "error",
          "ename": "NameError",
          "evalue": "name '__file__' is not defined",
          "traceback": [
            "\u001b[0;31m---------------------------------------------------------------------------\u001b[0m",
            "\u001b[0;31mNameError\u001b[0m                                 Traceback (most recent call last)",
            "\u001b[0;32m<ipython-input-4-e2cd32908dfd>\u001b[0m in \u001b[0;36m<cell line: 18>\u001b[0;34m()\u001b[0m\n\u001b[1;32m     16\u001b[0m \u001b[0;34m\u001b[0m\u001b[0m\n\u001b[1;32m     17\u001b[0m \u001b[0;31m# 加載Mario圖片\u001b[0m\u001b[0;34m\u001b[0m\u001b[0;34m\u001b[0m\u001b[0m\n\u001b[0;32m---> 18\u001b[0;31m \u001b[0mcurrent_path\u001b[0m \u001b[0;34m=\u001b[0m \u001b[0mos\u001b[0m\u001b[0;34m.\u001b[0m\u001b[0mpath\u001b[0m\u001b[0;34m.\u001b[0m\u001b[0mdirname\u001b[0m\u001b[0;34m(\u001b[0m\u001b[0m__file__\u001b[0m\u001b[0;34m)\u001b[0m  \u001b[0;31m# 獲取當前文件所在目錄\u001b[0m\u001b[0;34m\u001b[0m\u001b[0;34m\u001b[0m\u001b[0m\n\u001b[0m\u001b[1;32m     19\u001b[0m \u001b[0mimage_path\u001b[0m \u001b[0;34m=\u001b[0m \u001b[0mos\u001b[0m\u001b[0;34m.\u001b[0m\u001b[0mpath\u001b[0m\u001b[0;34m.\u001b[0m\u001b[0mjoin\u001b[0m\u001b[0;34m(\u001b[0m\u001b[0mcurrent_path\u001b[0m\u001b[0;34m,\u001b[0m \u001b[0;34m'mario.png'\u001b[0m\u001b[0;34m)\u001b[0m  \u001b[0;31m# 圖片文件的路徑\u001b[0m\u001b[0;34m\u001b[0m\u001b[0;34m\u001b[0m\u001b[0m\n\u001b[1;32m     20\u001b[0m \u001b[0mmario_image\u001b[0m \u001b[0;34m=\u001b[0m \u001b[0mpygame\u001b[0m\u001b[0;34m.\u001b[0m\u001b[0mimage\u001b[0m\u001b[0;34m.\u001b[0m\u001b[0mload\u001b[0m\u001b[0;34m(\u001b[0m\u001b[0mimage_path\u001b[0m\u001b[0;34m)\u001b[0m\u001b[0;34m\u001b[0m\u001b[0;34m\u001b[0m\u001b[0m\n",
            "\u001b[0;31mNameError\u001b[0m: name '__file__' is not defined"
          ]
        }
      ]
    },
    {
      "cell_type": "code",
      "source": [],
      "metadata": {
        "colab": {
          "base_uri": "https://localhost:8080/"
        },
        "id": "MIsrDYx0HEJG",
        "outputId": "cb00dc5d-6f01-4f18-ab06-2c3ac929515e"
      },
      "execution_count": null,
      "outputs": [
        {
          "output_type": "stream",
          "name": "stdout",
          "text": [
            "/content\n",
            "sample_data\n"
          ]
        }
      ]
    },
    {
      "cell_type": "markdown",
      "source": [
        "#markdown\n",
        "#Latex MAth\n",
        "$Area="
      ],
      "metadata": {
        "id": "yOqHyYsQKCpW"
      }
    },
    {
      "cell_type": "code",
      "source": [],
      "metadata": {
        "id": "-NxLmLZ1GmHw"
      },
      "execution_count": null,
      "outputs": []
    }
  ]
}